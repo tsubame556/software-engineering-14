{
  "cells": [
    {
      "cell_type": "markdown",
      "metadata": {
        "id": "view-in-github",
        "colab_type": "text"
      },
      "source": [
        "<a href=\"https://colab.research.google.com/github/tsubame556/software-engineering-14/blob/main/GCI2025W_%E7%AC%AC3%E5%9B%9E_Python%E3%81%AB%E3%82%88%E3%82%8B%E7%A7%91%E5%AD%A6%E8%A8%88%E7%AE%97%EF%BC%88NumPy%EF%BC%89_%E5%AE%BF%E9%A1%8C.ipynb\" target=\"_parent\"><img src=\"https://colab.research.google.com/assets/colab-badge.svg\" alt=\"Open In Colab\"/></a>"
      ]
    },
    {
      "cell_type": "markdown",
      "metadata": {
        "id": "93cl9JWr_5nm"
      },
      "source": [
        "## 問題文\n",
        "整数値を値にもつNumpyの1次元配列を引数として、5の倍数かつ2で割って1余る数を要素として持つ配列を出力する関数を実装してください。\n",
        "\n",
        "以下が想定される出力です\n",
        "\n",
        "```python\n",
        "a = np.array([1, 5, 10, 3, 4, 25, 30])\n",
        "print(homework(a))\n",
        "np.array([5, 25])\n",
        "```\n",
        "\n",
        "提出するときは、以下の点に注意してください。 なお、提出するのは、homework関数の定義2の内容のみになります。\n",
        "\n",
        "1.  ライブラリのインポート\n",
        "2.  「5の倍数」かつ「2で割って1余る数」を要素として持つ配列を出力するhomework関数\n",
        "3.  Numpyの1次元配列の定義\n",
        "4.  homework関数の出力をprintなどで確認\n",
        "5.  Omnicampus提出時にimport文は記載しない\n",
        "\n",
        ">- 以下の関数`homework`の`!!WRITE ME!!`に処理を書いてください。(**「`!!WRITE ME!!`」は消して、記入してください。**)\n",
        ">- 実際の提出は記述された`homework`関数全てになり、**提出はOmnicampus内の宿題の欄から今週の課題を選択後、提出内容に関数を貼り付けてから[Pythonコード提出]を押してください。**\n",
        ">- 返り値は数値型の配列です。\n",
        ">- 関数は1つにまとめてください。"
      ]
    },
    {
      "cell_type": "code",
      "execution_count": 10,
      "metadata": {
        "id": "thHL7HyXBXvS"
      },
      "outputs": [],
      "source": [
        "# 1. ライブラリのインポート\n",
        "import numpy as np"
      ]
    },
    {
      "cell_type": "code",
      "source": [
        "# 2. homework関数の定義\n",
        "# !!WRITE ME!!に処理を記入する（homework関数を提出することに注意）\n",
        "def homework(a):\n",
        "    my_result = a[(a % 5 == 0) & (a % 2 == 1)]\n",
        "    return my_result"
      ],
      "metadata": {
        "id": "KS14N2rL34tN"
      },
      "execution_count": 11,
      "outputs": []
    },
    {
      "cell_type": "code",
      "source": [
        "# 3. Numpyの1次元配列の定義\n",
        "a = np.array([1, 5, 10, 3, 4, 25, 30])"
      ],
      "metadata": {
        "id": "a7BIZB2Y3gMU"
      },
      "execution_count": 12,
      "outputs": []
    },
    {
      "cell_type": "code",
      "source": [
        "# 4. homework関数の出力をprintなどで確認\n",
        "print(homework(a))"
      ],
      "metadata": {
        "colab": {
          "base_uri": "https://localhost:8080/"
        },
        "id": "rEbyIHh_3gDM",
        "outputId": "b3c89775-3cff-4a17-8d08-383bb186aa6b"
      },
      "execution_count": 13,
      "outputs": [
        {
          "output_type": "stream",
          "name": "stdout",
          "text": [
            "[ 5 25]\n"
          ]
        }
      ]
    },
    {
      "cell_type": "code",
      "source": [
        "# a以外の配列も動作確認してみる\n",
        "b = np.array([10, 15])\n",
        "print(homework(b))"
      ],
      "metadata": {
        "colab": {
          "base_uri": "https://localhost:8080/"
        },
        "id": "x-W_28aO3fp9",
        "outputId": "5b603a24-fd9e-4f4b-8177-a1ab21272492"
      },
      "execution_count": 14,
      "outputs": [
        {
          "output_type": "stream",
          "name": "stdout",
          "text": [
            "[15]\n"
          ]
        }
      ]
    }
  ],
  "metadata": {
    "colab": {
      "provenance": [],
      "include_colab_link": true
    },
    "kernelspec": {
      "display_name": "Python 3",
      "name": "python3"
    },
    "language_info": {
      "codemirror_mode": {
        "name": "ipython",
        "version": 3
      },
      "file_extension": ".py",
      "mimetype": "text/x-python",
      "name": "python",
      "nbconvert_exporter": "python",
      "pygments_lexer": "ipython3",
      "version": "3.8.5"
    }
  },
  "nbformat": 4,
  "nbformat_minor": 0
}